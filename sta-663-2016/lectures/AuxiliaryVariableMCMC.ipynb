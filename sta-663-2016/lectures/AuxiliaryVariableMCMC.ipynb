{
 "cells": [
  {
   "cell_type": "markdown",
   "metadata": {},
   "source": [
    "# Using Auxiliary Variables in MCMC proposals"
   ]
  },
  {
   "cell_type": "markdown",
   "metadata": {},
   "source": [
    "## Slice sampling\n",
    "\n",
    "Slice sampling is a simple MCMC algorithm that introudces the idea of auxiliary variables. The motivation for slice sampling is that if we can sample uniformly from the region under the graph of the target distribution, we will have random samples from the target distribution. In the univariate case, the algorithm is as follows\n",
    "\n",
    "- start with some $x$ where $p(x) \\ne 0$\n",
    "- repeat\n",
    "    - sample $y$ (auxiliary variable) uniformly from 0 to $f(x)$\n",
    "    - draw a horizontal line at $y$ within $p(x)$ (this may consist of multiple intervals)\n",
    "    - sample $x$ from the horizontal segments\n",
    "\n",
    "The auxiliary $y$ variable allows us to sample $(x, y)$ points that are in the region under the graph of the target distribution. Only the $x$ variable is used for the Monte Carlo samples - the $y$ variables are simply discarded. It is a Markov Chain Monte Carlo method since the next $(x, y)$ position depends only on the current position. Like Gibbs sampling, there is no tuning process and all proposals are accepted. For slice sampling, you either need the inverse distribution function or some way to estimate it. Later we will see that Hamiltonian Monte Carlo also uses auxiliary variables to generate a new proposal in an analogous way.\n",
    "\n",
    "A toy example illustrates the process - Suppose we want to draw random samples from the posterior distribution $\\mathcal{N}(0, 1)$ using slice sampling\n",
    "\n",
    "Start with some value $x$\n",
    "- sample $y$ from $\\mathcal{U}(0, f(x))$ - this is the horizontal \"slice\" that gives the method its name\n",
    "- sample the next $x$ from $f^{-1}(y)$ - this is typically done numerically\n",
    "- repeat\n",
    "\n",
    "Will sketch picture in class to show what is going on."
   ]
  },
  {
   "cell_type": "markdown",
   "metadata": {},
   "source": [
    "## A simple slice sampler example"
   ]
  },
  {
   "cell_type": "code",
   "execution_count": 3,
   "metadata": {
    "collapsed": true
   },
   "outputs": [],
   "source": [
    "import scipy.stats as stats"
   ]
  },
  {
   "cell_type": "code",
   "execution_count": 4,
   "metadata": {
    "collapsed": false
   },
   "outputs": [],
   "source": [
    "dist = stats.norm(5, 3)\n",
    "w = 0.5\n",
    "x = dist.rvs()\n",
    "\n",
    "niters = 1000\n",
    "xs = []\n",
    "while len(xs) < niters:\n",
    "    y = np.random.uniform(0, dist.pdf(x))\n",
    "    lb = x\n",
    "    rb = x\n",
    "    while y < dist.pdf(lb):\n",
    "        lb -= w\n",
    "    while y < dist.pdf(rb):\n",
    "        rb += w\n",
    "    x = np.random.uniform(lb, rb)\n",
    "    if y > dist.pdf(x):\n",
    "        if np.abs(x-lb) < np.abs(x-rb):\n",
    "            lb = x\n",
    "        else:\n",
    "            lb = y\n",
    "    else:\n",
    "        xs.append(x)"
   ]
  },
  {
   "cell_type": "code",
   "execution_count": 5,
   "metadata": {
    "collapsed": false
   },
   "outputs": [
    {
     "data": {
      "image/png": "[encoded data removed]",
      "text/plain": [
       "<matplotlib.figure.Figure at 0x10f0f4f98>"
      ]
     },
     "metadata": {},
     "output_type": "display_data"
    }
   ],
   "source": [
    "plt.hist(xs, 20)\n",
    "pass"
   ]
  },
  {
   "cell_type": "markdown",
   "metadata": {},
   "source": [
    "Notes on the slice sampler:\n",
    "\n",
    "- the slice may consist of disjoint pieces for multimodal distributions\n",
    "- the slice can be a rectangular hyperslab for multivariable posterior distributions\n",
    "- sampling from the slice (i.e. finding the boundaries at level $y$) is non-trivial and may involve iterative rejection steps - see figure below (from Wikimedia) for a typical approach - the blue bars represent disjoint pieces of the true slice through a bimodal distribution and the black lines are the proposal distribution approximating the true slice\n",
    "\n",
    "![Slice sampling algorithm from Wikipedia](http://upload.wikimedia.org/wikipedia/commons/thumb/3/30/Summary_of_slice_sampling.png/750px-Summary_of_slice_sampling.png)"
   ]
  },
  {
   "cell_type": "markdown",
   "metadata": {},
   "source": [
    "## Hamiltonian Monte Carlo (HMC)\n",
    "\n",
    "HMC uses an auxiliary variable corresponding to the momentum of particles in a potential energy well to generate proposal distributions that can make use of gradient information in the posterior distribution. For reversibility to be maintained, the total energy of the particle has to be conserved - hence we are interested in Hamiltonian systems. The main attraction of HMC is that it works much better than other methods when variables of interest are highly correlated. Because we have to solve problems involving momentum, we need to understand how to numerically solve differential equations in a way that is both accurate (i.e. second order) and preserves total energy (necessary for a Hamiltonian system)."
   ]
  },
  {
   "cell_type": "markdown",
   "metadata": {},
   "source": [
    "## A simple Hamiltonian system\n",
    "\n",
    "We will consider solving a classical Hamiltonian system - that of a undamped spring governed by the second order differential equation\n",
    "\n",
    "$$\n",
    "u'' + u = 0\n",
    "$$\n",
    "\n",
    "We convert this to two first order ODEs by using a dummy variable $u' = v$ to get\n",
    "\n",
    "$$\n",
    "\\begin{align}\n",
    "u' &= v \\\\\n",
    "v' &= -u\n",
    "\\end{align}\n",
    "$$\n",
    "\n",
    "Writing in matrix form,\n",
    "\n",
    "$$\n",
    "A = \\pmatrix{ u' \\\\ v' } = \\pmatrix{0 & 1 \\\\ -1 & 0}\n",
    "$$\n",
    "\n",
    "and in general, for the state vector $u$,\n",
    "\n",
    "$$\n",
    "u' = Au\n",
    "$$\n",
    "\n",
    "We note that $A$ is anti- or skew-symmetric ($A^T = -A$), and hence has purely imaginary eigenvalues. Solving $|A - \\lambda I = 0$, we see that the eigenvalues and eigenvectors are $i, \\pmatrix{1\\\\i}$ and $-i, \\pmatrix{1\\\\-i}$. Since the eigenvalues are pure imaginary, we see that the solution for the initial conditions $(u,v) = (1, 0)$ is $u(t) = e^{it}$ and the orbit just goes around a circle with a period of $2\\pi$, neither growing nor decaying. Another weay of seeing this is that the Hamiltonian $H(u, v)$ or sum of potential ($U(u)) = \\frac{1}{2}u^2$) and kinetic energy ($K(v) = \\frac{1}{2}v^2$) is constant, i.e. in vector form, $(u^Tu) = \\text{constant}$."
   ]
  },
  {
   "cell_type": "markdown",
   "metadata": {},
   "source": [
    "## Finite difference methods\n",
    "\n",
    "We want to find a finite difference approximation to $u' = Au$ that is **accurate** and **preserves total energy**. If total energy is not preserved, the orbit will either spiral in towards zero or outwards away from the unit circle. If the accuracy is poor, the orbit will not be close to its starting value after $t = 2\\pi$. This gives us an easy way to visualize how good our numerical scheme is. We can also compare the numerical scheme to the Taylor series to evaluate its accuracy."
   ]
  },
  {
   "cell_type": "markdown",
   "metadata": {},
   "source": [
    "### Forward Euler\n",
    "\n",
    "The simplest finite difference scheme for integrating ODEs is the forward Euler\n",
    "\n",
    "$$\n",
    "\\frac{u_{n+1} - u_n}{\\Delta t} = A u_n\n",
    "$$\n",
    "\n",
    "Rearranging terms, we get\n",
    "\n",
    "$$\n",
    "u_{n+1} = u_n + \\Delta t A u_n = \\left( I + \\Delta t A \\right) u_n\n",
    "$$\n",
    "\n",
    "Since the eigenvalues of $A$ are $\\pm i$, we see that the eigenvalues of the forward Euler matrix are $1 \\pm i$. Since the absolute value of the eigenvalues is greater than 1, we expect **growing** solutions - i.e. the solution will spiral away from the unit circle."
   ]
  },
  {
   "cell_type": "code",
   "execution_count": 1,
   "metadata": {
    "collapsed": true
   },
   "outputs": [],
   "source": [
    "import scipy.linalg as la"
   ]
  },
  {
   "cell_type": "code",
   "execution_count": 2,
   "metadata": {
    "collapsed": false
   },
   "outputs": [],
   "source": [
    "def f_euler(A, u, N):\n",
    "    orbit = np.zeros((N,2))\n",
    "\n",
    "    for i in range(N):\n",
    "        dt = 2*np.pi/N\n",
    "        u = u + dt * A @ u\n",
    "        orbit[i] = u\n",
    "    return orbit"
   ]
  },
  {
   "cell_type": "code",
   "execution_count": 3,
   "metadata": {
    "collapsed": false
   },
   "outputs": [],
   "source": [
    "A = np.array([[0,1],[-1,0]])\n",
    "u = np.array([1.0,0.0])\n",
    "N = 64\n",
    "orbit = f_euler(A, u, N)"
   ]
  },
  {
   "cell_type": "markdown",
   "metadata": {},
   "source": [
    "#### Accuracy"
   ]
  },
  {
   "cell_type": "code",
   "execution_count": 4,
   "metadata": {
    "collapsed": false
   },
   "outputs": [
    {
     "data": {
      "text/plain": [
       "0.3600318484671192"
      ]
     },
     "execution_count": 4,
     "metadata": {},
     "output_type": "execute_result"
    }
   ],
   "source": [
    "la.norm(np.array([1.0,0.0]) - orbit[-1])"
   ]
  },
  {
   "cell_type": "markdown",
   "metadata": {},
   "source": [
    "#### Conservation of energy"
   ]
  },
  {
   "cell_type": "code",
   "execution_count": 19,
   "metadata": {
    "collapsed": false
   },
   "outputs": [
    {
     "data": {
      "image/png": "[encoded data removed]",
      "text/plain": [
       "<matplotlib.figure.Figure at 0x7f6cdafd0eb8>"
      ]
     },
     "metadata": {},
     "output_type": "display_data"
    }
   ],
   "source": [
    "plt.plot([p@p for p in orbit])\n",
    "pass"
   ]
  },
  {
   "cell_type": "code",
   "execution_count": 6,
   "metadata": {
    "collapsed": false
   },
   "outputs": [
    {
     "data": {
      "image/png": "[encoded data removed]",
      "text/plain": [
       "<matplotlib.figure.Figure at 0x7f6cdb213588>"
      ]
     },
     "metadata": {},
     "output_type": "display_data"
    }
   ],
   "source": [
    "ax = plt.subplot(111)\n",
    "plt.plot(orbit[:, 0], orbit[:,1], 'o')\n",
    "ax.axis('square')\n",
    "plt.axis([-1.5, 1.5, -1.5, 1.5])\n",
    "pass"
   ]
  },
  {
   "cell_type": "markdown",
   "metadata": {},
   "source": [
    "#### Accuracy and conservation of energy\n",
    "\n",
    "We can see that forward Euler is not very accurate and also does not preserve energy since the orbit spirals away from the unit circle."
   ]
  },
  {
   "cell_type": "markdown",
   "metadata": {},
   "source": [
    "### The trapezoidal method\n",
    "\n",
    "The trapezoidal method uses the following scheme\n",
    "\n",
    "$$\n",
    "\\frac{u_{n+1} - u_n}{\\Delta t} = \\frac{1}{2}  ( A u_{n+1} + A u_{n})\n",
    "$$\n",
    "\n",
    "This is an implicit scheme (because $u_{n+1}$ appears on the RHS) whose solution is\n",
    "\n",
    "$$\n",
    "u_{n+1} = \\left(I - \\frac{\\Delta t}{2} A \\right)^{-1} \\left(I + \\frac{\\Delta t}{2} A \\right) u_{n} = B u_n\n",
    "$$\n",
    "\n",
    "By inspection, we see that the eigenvalues are the complex conjugates of\n",
    "\n",
    "$$\n",
    "\\frac{1 + \\frac{\\Delta t}{2} i}{1 - \\frac{\\Delta t}{2} i}\n",
    "$$\n",
    "\n",
    "whose absolute value is 1 - hence, energy is conserved. If we expand the matrix $B$ using the geometric series and compare with the Taylor expansion, we see that the trapezoidal method has local truncation error $O(h^3)$ and hence accuracy $O(h^2)$, where $h$ is the time step."
   ]
  },
  {
   "cell_type": "code",
   "execution_count": 7,
   "metadata": {
    "collapsed": false
   },
   "outputs": [],
   "source": [
    "def trapezoidal(A, u, N):\n",
    "    orbit = np.zeros((N,2))\n",
    "\n",
    "    for i in range(N):\n",
    "        dt = 2*np.pi/N\n",
    "        u = la.inv(np.eye(2) - dt/2 * A) @ (np.eye(2) + dt/2 * A) @ u\n",
    "        orbit[i] = u\n",
    "    return orbit"
   ]
  },
  {
   "cell_type": "code",
   "execution_count": 8,
   "metadata": {
    "collapsed": true
   },
   "outputs": [],
   "source": [
    "A = np.array([[0,1],[-1,0]])\n",
    "u = np.array([1.0,0.0])\n",
    "N = 64\n",
    "orbit = trapezoidal(A, u, N)"
   ]
  },
  {
   "cell_type": "markdown",
   "metadata": {},
   "source": [
    "#### Accuracy"
   ]
  },
  {
   "cell_type": "code",
   "execution_count": 9,
   "metadata": {
    "collapsed": false
   },
   "outputs": [
    {
     "data": {
      "text/plain": [
       "0.005039305635733781"
      ]
     },
     "execution_count": 9,
     "metadata": {},
     "output_type": "execute_result"
    }
   ],
   "source": [
    "la.norm(np.array([1.0,0.0]) - orbit[-1])"
   ]
  },
  {
   "cell_type": "markdown",
   "metadata": {},
   "source": [
    "#### Conservation of energy"
   ]
  },
  {
   "cell_type": "code",
   "execution_count": 20,
   "metadata": {
    "collapsed": false
   },
   "outputs": [
    {
     "data": {
      "image/png": "[encoded data removed]",
      "text/plain": [
       "<matplotlib.figure.Figure at 0x7f6cdaf40550>"
      ]
     },
     "metadata": {},
     "output_type": "display_data"
    }
   ],
   "source": [
    "plt.plot([p@p for p in orbit])\n",
    "pass"
   ]
  },
  {
   "cell_type": "code",
   "execution_count": 11,
   "metadata": {
    "collapsed": false
   },
   "outputs": [
    {
     "data": {
      "image/png": "[encoded data removed]",
      "text/plain": [
       "<matplotlib.figure.Figure at 0x7f6cdb083550>"
      ]
     },
     "metadata": {},
     "output_type": "display_data"
    }
   ],
   "source": [
    "ax = plt.subplot(111)\n",
    "plt.plot(orbit[:, 0], orbit[:,1], 'o')\n",
    "ax.axis('square')\n",
    "plt.axis([-1.5, 1.5, -1.5, 1.5])\n",
    "pass"
   ]
  },
  {
   "cell_type": "markdown",
   "metadata": {},
   "source": [
    "### The leapfrog method\n",
    "\n",
    "The leapfrog method uses a second order difference to update $u_n$. The algorithm simplifies to the following explicit scheme:\n",
    "\n",
    "- First take one half-step for u\n",
    "- Then take a full step for v\n",
    "- Then take one final half step for u\n",
    "\n",
    "It performs as well as the trapezoidal method, with the advantage of being an explicit scheme and cheaper to calculate, so the leapfrog method is used in HMC."
   ]
  },
  {
   "cell_type": "code",
   "execution_count": 12,
   "metadata": {
    "collapsed": false
   },
   "outputs": [],
   "source": [
    "def leapfrog(A, u, N):\n",
    "    orbit = np.zeros((N,2))\n",
    "\n",
    "    for i in range(N):\n",
    "        dt = 2*np.pi/N\n",
    "        u[1] = u[1] + dt/2 * A[1] @ u\n",
    "        u[0] = u[0] + dt * A[0] @ u\n",
    "        u[1] = u[1] + dt/2 * A[1] @ u\n",
    "        orbit[i] = u\n",
    "    return orbit"
   ]
  },
  {
   "cell_type": "code",
   "execution_count": 13,
   "metadata": {
    "collapsed": false
   },
   "outputs": [],
   "source": [
    "A = np.array([[0,1],[-1,0]])\n",
    "u = np.array([1.0,0.0])\n",
    "N = 64\n",
    "orbit = leapfrog(A, u, N)"
   ]
  },
  {
   "cell_type": "markdown",
   "metadata": {},
   "source": [
    "#### Accuracy"
   ]
  },
  {
   "cell_type": "code",
   "execution_count": 14,
   "metadata": {
    "collapsed": false
   },
   "outputs": [
    {
     "data": {
      "text/plain": [
       "0.0025229913808033464"
      ]
     },
     "execution_count": 14,
     "metadata": {},
     "output_type": "execute_result"
    }
   ],
   "source": [
    "la.norm(np.array([1.0,0.0]) - orbit[-1])"
   ]
  },
  {
   "cell_type": "markdown",
   "metadata": {},
   "source": [
    "#### Conservation of energy"
   ]
  },
  {
   "cell_type": "code",
   "execution_count": 21,
   "metadata": {
    "collapsed": false
   },
   "outputs": [
    {
     "data": {
      "image/png": "[encoded data removed]",
      "text/plain": [
       "<matplotlib.figure.Figure at 0x7f6cdaea72e8>"
      ]
     },
     "metadata": {},
     "output_type": "display_data"
    }
   ],
   "source": [
    "plt.plot([p@p for p in orbit])\n",
    "pass"
   ]
  },
  {
   "cell_type": "code",
   "execution_count": 16,
   "metadata": {
    "collapsed": false
   },
   "outputs": [
    {
     "data": {
      "image/png": "[encoded data removed]",
      "text/plain": [
       "<matplotlib.figure.Figure at 0x7f6cdb0d0080>"
      ]
     },
     "metadata": {},
     "output_type": "display_data"
    }
   ],
   "source": [
    "ax = plt.subplot(111)\n",
    "plt.plot(orbit[:, 0], orbit[:,1], 'o')\n",
    "ax.axis('square')\n",
    "plt.axis([-1.5, 1.5, -1.5, 1.5])\n",
    "pass"
   ]
  },
  {
   "cell_type": "markdown",
   "metadata": {
    "collapsed": true
   },
   "source": [
    "## From Hamiltonians to probability distributions\n",
    "\n",
    "From statistical mechanics, the total energy or $H(u,v) = U(u) + K(v)$ is related to the canonical probability distribution\n",
    "\n",
    "$$\n",
    "\\begin{align}\n",
    "p(\\theta) &= e^{-H(\\theta)}  \\\\\n",
    "&= e^{-U9u) - K(v)\n",
    "\\end{align}\n",
    "$$"
   ]
  },
  {
   "cell_type": "code",
   "execution_count": null,
   "metadata": {
    "collapsed": true
   },
   "outputs": [],
   "source": []
  }
 ],
 "metadata": {
  "kernelspec": {
   "display_name": "Python 3",
   "language": "python",
   "name": "python3"
  },
  "language_info": {
   "codemirror_mode": {
    "name": "ipython",
    "version": 3
   },
   "file_extension": ".py",
   "mimetype": "text/x-python",
   "name": "python",
   "nbconvert_exporter": "python",
   "pygments_lexer": "ipython3",
   "version": "3.5.1"
  }
 },
 "nbformat": 4,
 "nbformat_minor": 0
}
