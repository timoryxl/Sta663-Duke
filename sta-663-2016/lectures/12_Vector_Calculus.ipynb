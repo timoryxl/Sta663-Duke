{
 "cells": [
  {
   "cell_type": "markdown",
   "metadata": {},
   "source": [
    "Vector calculus\n",
    "==="
   ]
  },
  {
   "cell_type": "markdown",
   "metadata": {},
   "source": [
    "Gradient, Jacobian and Hessian\n",
    "----"
   ]
  },
  {
   "cell_type": "markdown",
   "metadata": {},
   "source": [
    "### Gradient\n",
    "\n",
    "Let $f: \\mathbb{R}^n \\rightarrow \\mathbb{R}$\n",
    "\n",
    "$$\n",
    "\\nabla f = \\pmatrix{\n",
    "\\frac{\\delta f}{\\delta x_1} \\\\ \n",
    "\\frac{\\delta f}{\\delta x_2} \\\\\n",
    "\\vdots \\\\\n",
    "\\frac{\\delta f}{\\delta x_n} \n",
    "}\n",
    "$$"
   ]
  },
  {
   "cell_type": "markdown",
   "metadata": {},
   "source": [
    "### Jacobian\n",
    "\n",
    "The Jacobian generalizes the gradient of a scalar valued function to vector valued functions. Hence the Jacobian of a scalar valued function $f: \\mathbb{R}^n \\rightarrow \\mathbb{R}$ is  the same as the gradient.\n",
    "\n",
    "Let $f: \\mathbb{R}^n \\rightarrow \\mathbb{R^m}$\n",
    "\n",
    "\n",
    "$$\n",
    "Jf = \\pmatrix{\n",
    "\\frac{\\delta f_1}{\\delta x_1} & \\frac{\\delta f_1}{\\delta x_2} & \\cdots & \\frac{\\delta f_1}{\\delta x_n} \\\\\n",
    "\\frac{\\delta f_2}{\\delta x_1} & \\frac{\\delta f_2}{\\delta x_2} & \\cdots & \\frac{\\delta f_2}{\\delta x_n} \\\\\n",
    "\\vdots & \\vdots & \\cdots & \\vdots \\\\\n",
    "\\frac{\\delta f_m}{\\delta x_1} & \\frac{\\delta f_m}{\\delta x_2} & \\cdots & \\frac{\\delta f_m}{\\delta x_n}\n",
    "}\n",
    "$$\n"
   ]
  },
  {
   "cell_type": "markdown",
   "metadata": {},
   "source": [
    "### Hessian\n",
    "\n",
    "The Hessian is the Jacobian of the graident of a scalar valued function. In other words, it is the square matrix of second partial derivatives. The Hessian symmetrical if the second partial derivavies are continuous. \n",
    "\n",
    "Let $f: \\mathbb{R}^n \\rightarrow \\mathbb{R}$\n",
    "\n",
    "\n",
    "$$\n",
    "\\nabla^2 f = \\pmatrix{\n",
    "\\frac{\\delta^2 f}{\\delta x_1^2} & \\frac{\\delta^2 f}{\\delta x_1 x_2} & \\cdots & \\frac{\\delta^2 f}{\\delta x_1 x_n} \\\\\n",
    "\\frac{\\delta^2 f}{\\delta x_2 x_1} & \\frac{\\delta^2 f}{\\delta x_2^2} & \\cdots & \\frac{\\delta^2 f}{\\delta x_2 x_n} \\\\\n",
    "\\vdots & \\vdots & \\cdots & \\vdots \\\\\n",
    "\\frac{\\delta^2 f}{\\delta x_nx _1} & \\frac{\\delta^2 f}{\\delta x_n x_2} & \\cdots & \\frac{\\delta^2 f}{\\delta x_n^2}\n",
    "}\n",
    "$$"
   ]
  },
  {
   "cell_type": "code",
   "execution_count": null,
   "metadata": {
    "collapsed": true
   },
   "outputs": [],
   "source": []
  }
 ],
 "metadata": {
  "kernelspec": {
   "display_name": "Python 3",
   "language": "python",
   "name": "python3"
  },
  "language_info": {
   "codemirror_mode": {
    "name": "ipython",
    "version": 3
   },
   "file_extension": ".py",
   "mimetype": "text/x-python",
   "name": "python",
   "nbconvert_exporter": "python",
   "pygments_lexer": "ipython3",
   "version": "3.5.1"
  }
 },
 "nbformat": 4,
 "nbformat_minor": 0
}
