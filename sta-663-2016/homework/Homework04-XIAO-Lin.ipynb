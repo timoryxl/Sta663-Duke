{
 "cells": [
  {
   "cell_type": "markdown",
   "metadata": {},
   "source": [
    "**Due: 4 PM on Wednesday, 17 Feb 2016**\n",
    "\n",
    "The usual warnings apply - the homework is not officially released until 11 Feb 2016, and we may make changes till then."
   ]
  },
  {
   "cell_type": "markdown",
   "metadata": {},
   "source": [
    "Instructions\n",
    "-----\n",
    "\n",
    "Write code to solve all problems. The grading rubric includes the following criteria:\n",
    "\n",
    "- Correctness\n",
    "- Readability\n",
    "- Efficiency\n",
    "\n",
    "Please do not copy answers found on the web or elsewhere as it will not benefit your learning. Searching the web for general references etc is OK. Some discussion with friends is fine too - but again, do not just copy their answer. \n",
    "\n",
    "**Honor Code: By submitting this assignment, you certify that this is your original work.**"
   ]
  },
  {
   "cell_type": "markdown",
   "metadata": {},
   "source": [
    "**Question 1 (20 points)**. \n",
    "\n",
    "Euclid's algorithm for finding the greatest common divisor of two numbers is\n",
    "\n",
    "```python\n",
    "gcd(a, 0) = a\n",
    "gcd(a, b) = gcd(b, a modulo b)\n",
    "```\n",
    "\n",
    "- Write a function to find the greatest common divisor in Python (8 points)\n",
    "- What is the greatest common divisor of 17384 and 1928? (2 point)\n",
    "- Write a function to calculate the least common multiple (8 points)\n",
    "- What is the least common multiple of 17384 and 1928? (2 point)"
   ]
  },
  {
   "cell_type": "code",
   "execution_count": 167,
   "metadata": {
    "collapsed": false
   },
   "outputs": [
    {
     "name": "stdout",
     "output_type": "stream",
     "text": [
      "greatest common divisor:  8\n",
      "least common multiple:  4189544.0\n"
     ]
    }
   ],
   "source": [
    "from math import sqrt\n",
    "\n",
    "# greatest common divisor\n",
    "def gcd(a,b):\n",
    "    c = min(a,b)\n",
    "    d = max(a,b)\n",
    "    if c == 0:\n",
    "        return d\n",
    "    else:\n",
    "        lst = filter(lambda i: c % i == 0, range(1, int(sqrt(c)) + 1))\n",
    "        lst1 = []\n",
    "        for i in lst:\n",
    "            if d % i == 0:\n",
    "                lst1.append(i)\n",
    "        return max(lst1)\n",
    "    \n",
    "# greatest common divisor of 17384 and 1928\n",
    "print(\"greatest common divisor: \", gcd(17384, 1928))\n",
    "\n",
    "# Note that the product of gcd and lcm equals to a times b\n",
    "def lcm(a,b):\n",
    "    return a*b/gcd(a,b)\n",
    "\n",
    "# The least common multiple of 17384 and 1928\n",
    "print(\"least common multiple: \", lcm(17384, 1928))"
   ]
  },
  {
   "cell_type": "markdown",
   "metadata": {},
   "source": [
    "**Question 2 (20 points)**. \n",
    "\n",
    "Consider the linear transformation $f(x)$ on $\\mathbb{R}^3$ that takes the standard basis $\\left\\{e_1,e_2,e_3\\right\\}$ to $\\left\\{v_1,v_2,v_3\\right\\}$ where\n",
    "\n",
    "$$v_1=\\left(\\begin{matrix}10\\\\-10\\\\16\\end{matrix}\\right), v_2=\\left(\\begin{matrix}2\\\\-5\\\\20\\end{matrix}\\right) \\textrm {and } v_3=\\left(\\begin{matrix}1\\\\-4\\\\13\\end{matrix}\\right)$$\n",
    "\n",
    "1. Write a matrix $A$ that represents the same linear transformaton. (4 points)\n",
    "\n",
    "2. Compute the rank of $A$ using two different methods (do not use `matrix_rank`!). (4 points)\n",
    "\n",
    "3. Find the eigenvalues and eigenvectors of $A$. (4 points)\n",
    "\n",
    "4. What is the matrix representation of $f$ with respect to the eigenbasis? (48 points)"
   ]
  },
  {
   "cell_type": "code",
   "execution_count": 168,
   "metadata": {
    "collapsed": false
   },
   "outputs": [
    {
     "data": {
      "text/plain": [
       "array([[ 10,   2,   1],\n",
       "       [-10,  -5,  -4],\n",
       "       [ 16,  20,  13]])"
      ]
     },
     "execution_count": 168,
     "metadata": {},
     "output_type": "execute_result"
    }
   ],
   "source": [
    "# Matrix A that represents the same linear transformaton\n",
    "import numpy as np\n",
    "A = np.array([[10,-10,16],\n",
    "        [2,-5,20],\n",
    "        [1,-4,13]]).T\n",
    "A"
   ]
  },
  {
   "cell_type": "code",
   "execution_count": 189,
   "metadata": {
    "collapsed": false
   },
   "outputs": [
    {
     "name": "stdout",
     "output_type": "stream",
     "text": [
      "rank:  3\n",
      "rank:  3\n"
     ]
    }
   ],
   "source": [
    "# Compute the rank of A\n",
    "\n",
    "# If it is invertible then the rank is 3\n",
    "import scipy.linalg as la\n",
    "if np.linalg.det(A) != 0:\n",
    "    print(\"rank: \", A.shape[1])\n",
    "    \n",
    "# Check if they are linear independent, if so, rank is 3\n",
    "b = np.array([0,0,0])\n",
    "x = la.solve(A, b)\n",
    "if all(x == np.array([ 0, 0, 0])):\n",
    "    print(\"rank: \", A.shape[1])"
   ]
  },
  {
   "cell_type": "code",
   "execution_count": 170,
   "metadata": {
    "collapsed": false
   },
   "outputs": [
    {
     "name": "stdout",
     "output_type": "stream",
     "text": [
      "eigenvalues are  [ 9.+0.j  3.+0.j  6.+0.j]\n",
      "eigenvectors are:  [-0.57735027  0.57735027 -0.57735027]\n",
      "[ -1.40040956e-16   4.47213595e-01  -8.94427191e-01]\n",
      "[-0.12038585 -0.24077171  0.96308682]\n"
     ]
    }
   ],
   "source": [
    "# Eigenvalues and eigenvectors\n",
    "eval, evec = la.eig(A)\n",
    "print(\"eigenvalues are \", eval)\n",
    "print(\"eigenvectors are: \", evec[:,0])\n",
    "print(evec[:,1])\n",
    "print(evec[:,2])"
   ]
  },
  {
   "cell_type": "code",
   "execution_count": 171,
   "metadata": {
    "collapsed": false
   },
   "outputs": [
    {
     "name": "stdout",
     "output_type": "stream",
     "text": [
      "[[  9.00000000e+00   1.77635684e-15   8.88178420e-16]\n",
      " [  3.55271368e-15   3.00000000e+00   1.24344979e-14]\n",
      " [  3.55271368e-15  -2.66453526e-15   6.00000000e+00]]\n"
     ]
    }
   ],
   "source": [
    "# Inverse matrix\n",
    "evec_inv = la.inv(evec)\n",
    "# Matrix of the transformation with respect to the new basis\n",
    "T = evec_inv.dot(A.dot(evec))        # B^{-1} A B \n",
    "print(T)"
   ]
  },
  {
   "cell_type": "markdown",
   "metadata": {},
   "source": [
    "**Exercise 3 (20 pts)**. Avodiing catastrophic cancellation.\n",
    "\n",
    "Read the Wikipedia entry on [loss of significance](https://en.wikipedia.org/wiki/Loss_of_significance). Then answer the following problem:\n",
    "\n",
    "The tail of the standard logistic distributon is given by $1 - F(t) = 1 - (1+e^{-t})^{-1}$.\n",
    "\n",
    "- Define a function `f1` to calculate the tail probability of the logistic distribution using the formula given above\n",
    "- Use [`sympy`](http://docs.sympy.org/latest/index.html) to find the exact value of the tail distribution (using the same symbolic formula) to 20 decimal digits\n",
    "- Calculate the *relative error* of `f1` when $t = 25$ (The relative error is given by `abs(exact - approximate)/exact`)\n",
    "- Rewrite the expression for the tail of the logistic distribution using simple algebra so that there is no risk of cancellation, and write a function `f2` using this formula. Calculate the *relative error* of `f2` when $t = 25$. \n",
    "- How much more accurate is `f2` compared with `f1` in terms of the relative error?"
   ]
  },
  {
   "cell_type": "code",
   "execution_count": 172,
   "metadata": {
    "collapsed": false
   },
   "outputs": [],
   "source": [
    "import numpy as np\n",
    "from sympy import N\n",
    "\n",
    "# Function f1\n",
    "def f1(t):\n",
    "    return 1-1/(1+np.exp(-t))\n",
    "\n",
    "exact = N(1-1/(1+exp(-25)),21)\n",
    "\n",
    "# relative error of f1 when t=25\n",
    "f1_err = abs(exact - f1(25))/exact"
   ]
  },
  {
   "cell_type": "code",
   "execution_count": 173,
   "metadata": {
    "collapsed": false
   },
   "outputs": [],
   "source": [
    "# Function f2\n",
    "def f2(t):\n",
    "    return np.exp(-t)/(np.exp(-t) + 1)\n",
    "\n",
    "# relative error of f2 when t=25\n",
    "f2_err = abs(exact - f2(25))/exact"
   ]
  },
  {
   "cell_type": "code",
   "execution_count": 174,
   "metadata": {
    "collapsed": false
   },
   "outputs": [
    {
     "name": "stdout",
     "output_type": "stream",
     "text": [
      "relative error of f1:  0.00000417591476659826462849\n",
      "relative error of f2:  2.31112527482187004059e-18\n",
      "f2 is 1806875123599.74654378 times accurate than f1\n"
     ]
    }
   ],
   "source": [
    "print(\"relative error of f1: \", f1_err)\n",
    "print(\"relative error of f2: \", f2_err)\n",
    "print(\"f2 is\", f1_err/f2_err, \"times accurate than f1\")"
   ]
  },
  {
   "cell_type": "markdown",
   "metadata": {},
   "source": [
    "**Exercise 4 (40 pts)**. One of the goals of the course it that you will be able to implement novel algorihtms from the literature. \n",
    "\n",
    "- Implement the mean-shift algorithm in 1D as described [here](http://homepages.inf.ed.ac.uk/rbf/CVonline/LOCAL_COPIES/TUZEL1/MeanShift.pdf). \n",
    "    - Use the following function signature\n",
    "    ```python\n",
    "    def mean_shift(xs, x, kernel, max_iters=100, tol=1e-6):\n",
    "    ```\n",
    "    - xs is the data set, x is the starting location, and kernel is a kernel function\n",
    "    - tol is the difference in $||x||$ across iterations\n",
    "- Use the following kernels with bandwidth $h$ (a default value of 1.0 will work fine)\n",
    "    - Flat - return 1 if $||x|| < h$ and 0 otherwise\n",
    "    - Gaussian \n",
    "    $$\\frac{1}{\\sqrt{2 \\pi h}}e^{\\frac{-||x||^2}{h^2}}$$\n",
    "    - Note that $||x||$ is the norm of the data point being evaluated minus the current value of $x$\n",
    "- Use both kernels to find all 3 modes of the data set in `x1d.npy`\n",
    "- Modify the algorihtm abd/or kernels so that it now works in an arbitrary number of dimensions.\n",
    "- Uset both kernels to find all 3 modes of the data set in `x2d.npy`\n",
    "- Plot the path of successive intermeidate solutions of the mean-shift algorithm starting from `x0 = (-4, 5)` until it converges onto a mode in the 2D data for each kernel. Superimposet the path on top of a contour plot of the data density. Repeat for `x0 = (0, 0)` and `x0 = (10, 10)` ."
   ]
  },
  {
   "cell_type": "code",
   "execution_count": 175,
   "metadata": {
    "collapsed": true
   },
   "outputs": [],
   "source": [
    "import numpy as np\n",
    "X1 = np.load('x1d.npy')\n",
    "X2 = np.load('x2d.npy')\n",
    "\n",
    "# Flat Kernel\n",
    "def flat(x):\n",
    "    if np.linalg.norm(x)<h:\n",
    "        return 1\n",
    "    else:\n",
    "        return 0\n",
    "\n",
    "# Gaussian Kernel\n",
    "def Gaussian(x):\n",
    "    return np.exp(-np.linalg.norm(x)**2/(h**2))/np.sqrt(2*np.pi*h)\n",
    "\n",
    "\n",
    "def mean_shift(xs, x, kernel, max_iters=100, tol=1e-6):\n",
    "    new_mean = x\n",
    "    mean_shifts = [x]\n",
    "    for iters in range(1, max_iters + 1):\n",
    "        Neighbourhood = [x for x in xs if np.linalg.norm(x-new_mean)<h]\n",
    "        old_mean = new_mean\n",
    "        m1 = sum([xi*kernel(xi-new_mean) for xi in Neighbourhood]) \n",
    "        m2 = sum([kernel(xi-new_mean) for xi in Neighbourhood])\n",
    "        if m2 == 0:\n",
    "            break\n",
    "        else:\n",
    "            new_mean = m1/m2\n",
    "            \n",
    "        # Record the shift path\n",
    "        mean_shifts.append(new_mean)\n",
    "        if np.linalg.norm(new_mean - old_mean) < tol:\n",
    "            break\n",
    "    return mean_shifts"
   ]
  },
  {
   "cell_type": "code",
   "execution_count": 176,
   "metadata": {
    "collapsed": false
   },
   "outputs": [
    {
     "name": "stdout",
     "output_type": "stream",
     "text": [
      "min:  -7.96812570511 , max:  7.408254921\n"
     ]
    }
   ],
   "source": [
    "# Get the range of X1 dataset\n",
    "print(\"min: \", min(X1), \", max: \", max(X1))"
   ]
  },
  {
   "cell_type": "code",
   "execution_count": 177,
   "metadata": {
    "collapsed": false
   },
   "outputs": [
    {
     "name": "stdout",
     "output_type": "stream",
     "text": [
      "Modes of X1 in kernel flat  [-4.8728   0.21918  3.82058]\n",
      "Modes of X2 in kernel Gaussian  [-4.9043   0.50004  3.85345]\n"
     ]
    }
   ],
   "source": [
    "# Adjust h to get exactly 3 modes\n",
    "h = 1.8\n",
    "mode_flat1 = []\n",
    "mode_Gaussian1 = []\n",
    "for i in range(-8,9):\n",
    "    mode_flat1.append(round(mean_shift(X1,i, flat, max_iters=100, tol=1e-6)[-1],5))\n",
    "    mode_Gaussian1.append(round(mean_shift(X1,i, Gaussian, max_iters=100, tol=1e-6)[-1],5))\n",
    "print('Modes of X1 in kernel flat ', np.unique(mode_flat1))\n",
    "print('Modes of X2 in kernel Gaussian ', np.unique(mode_Gaussian1))"
   ]
  },
  {
   "cell_type": "code",
   "execution_count": 178,
   "metadata": {
    "collapsed": false
   },
   "outputs": [
    {
     "data": {
      "text/plain": [
       "<seaborn.axisgrid.JointGrid at 0x7fdae8666da0>"
      ]
     },
     "execution_count": 178,
     "metadata": {},
     "output_type": "execute_result"
    },
    {
     "data": {
      "image/png": "[encoded data removed]",
      "text/plain": [
       "<matplotlib.figure.Figure at 0x7fdae8741f60>"
      ]
     },
     "metadata": {},
     "output_type": "display_data"
    }
   ],
   "source": [
    "import seaborn as sns\n",
    "# Check both the range and the starting points\n",
    "sns.jointplot(x=X2[:,0], y=X2[:,1], data=X2, kind=\"kde\")"
   ]
  },
  {
   "cell_type": "code",
   "execution_count": 179,
   "metadata": {
    "collapsed": false
   },
   "outputs": [
    {
     "data": {
      "text/plain": [
       "[((2.3, 2.852), 4), ((-3.083, 3.054), 4), ((6.094, 8.881), 3)]"
      ]
     },
     "execution_count": 179,
     "metadata": {},
     "output_type": "execute_result"
    }
   ],
   "source": [
    "# We start from the areas between neighbouring cores\n",
    "# For flat kernel\n",
    "h = 1\n",
    "mod1 = []\n",
    "for i in range(-3,1):\n",
    "    for j in range(1,3):\n",
    "        mode = mean_shift(X2,[i,j], flat, max_iters=100, tol=1e-6)\n",
    "        if len(mode) == 1:\n",
    "            break\n",
    "        a = mode[-1].tolist()\n",
    "        a = [round(i, 3) for i in a]\n",
    "        mod1.append(a)\n",
    "for i in range(6,8):\n",
    "    for j in range(8,10):\n",
    "        mode = mean_shift(X2,[i,j], flat, max_iters=100, tol=1e-6)\n",
    "        if len(mode) == 1:\n",
    "            break\n",
    "        a = mode[-1].tolist()\n",
    "        a = [round(i, 3) for i in a]\n",
    "        mod1.append(a)\n",
    "\n",
    "import collections\n",
    "import itertools\n",
    "\n",
    "counts = Counter()\n",
    "for collab in mod1:\n",
    "    for pair in itertools.combinations(collab, 2):\n",
    "        counts[pair] += 1\n",
    "\n",
    "# Find out the most common 3 points, which are modes\n",
    "# We will get similar but the exactly the same modes, so we \n",
    "# can just take the most common ones to represent the results\n",
    "counts.most_common(3)"
   ]
  },
  {
   "cell_type": "code",
   "execution_count": 180,
   "metadata": {
    "collapsed": false
   },
   "outputs": [
    {
     "data": {
      "text/plain": [
       "[((-3.085, 3.056), 4), ((6.091, 8.877), 3), ((2.318, 2.832), 3)]"
      ]
     },
     "execution_count": 180,
     "metadata": {},
     "output_type": "execute_result"
    }
   ],
   "source": [
    "# For Gaussian Kernel, same as above\n",
    "h = 1\n",
    "mod2 = []\n",
    "for i in range(-3,1):\n",
    "    for j in range(1,3):\n",
    "        mode = mean_shift(X2,[i,j], Gaussian, max_iters=100, tol=1e-6)\n",
    "        if len(mode) == 1:\n",
    "            break\n",
    "        a = mode[-1].tolist()\n",
    "        a = [round(i, 3) for i in a]\n",
    "        mod2.append(a)\n",
    "for i in range(6,8):\n",
    "    for j in range(8,10):\n",
    "        mode = mean_shift(X2,[i,j], Gaussian, max_iters=100, tol=1e-6)\n",
    "        if len(mode) == 1:\n",
    "            break\n",
    "        a = mode[-1].tolist()\n",
    "        a = [round(i, 3) for i in a]\n",
    "        mod2.append(a)\n",
    "\n",
    "\n",
    "counts = Counter()\n",
    "for collab in mod2:\n",
    "    for pair in itertools.combinations(collab, 2):\n",
    "        counts[pair] += 1\n",
    "\n",
    "counts.most_common(3)"
   ]
  },
  {
   "cell_type": "code",
   "execution_count": 188,
   "metadata": {
    "collapsed": false
   },
   "outputs": [
    {
     "data": {
      "text/plain": [
       "[<matplotlib.lines.Line2D at 0x7fdae7fdb908>]"
      ]
     },
     "execution_count": 188,
     "metadata": {},
     "output_type": "execute_result"
    },
    {
     "data": {
      "image/png": "[encoded data removed]",
      "text/plain": [
       "<matplotlib.figure.Figure at 0x7fdae872b198>"
      ]
     },
     "metadata": {},
     "output_type": "display_data"
    }
   ],
   "source": [
    "# Plot paths for flat kernels\n",
    "contour = sns.jointplot(x=X2[:,0], y=X2[:,1], data=X2, kind=\"kde\")\n",
    "trace1 = np.array(mean_shift(X2,[-4,5], flat, max_iters=100, tol=1e-6))\n",
    "trace2 = np.array(mean_shift(X2,[0,0], flat, max_iters=100, tol=1e-6))\n",
    "trace3 = np.array(mean_shift(X2,[10,10], flat, max_iters=100, tol=1e-6))\n",
    "contour.ax_joint.plot(trace1[:,0],trace1[:,1],c='red')\n",
    "contour.ax_joint.plot(trace2[:,0],trace2[:,1],c='red')\n",
    "contour.ax_joint.plot(trace3[:,0],trace3[:,1],c='red')\n",
    "# Plot paths for Gaussian kernels\n",
    "trace1 = np.array(mean_shift(X2,[-4,5], Gaussian, max_iters=100, tol=1e-6))\n",
    "trace2 = np.array(mean_shift(X2,[0,0], Gaussian, max_iters=100, tol=1e-6))\n",
    "trace3 = np.array(mean_shift(X2,[10,10], Gaussian, max_iters=100, tol=1e-6))\n",
    "contour.ax_joint.plot(trace1[:,0],trace1[:,1],c='ivory')\n",
    "contour.ax_joint.plot(trace2[:,0],trace2[:,1],c='ivory')\n",
    "contour.ax_joint.plot(trace3[:,0],trace3[:,1],c='ivory')"
   ]
  },
  {
   "cell_type": "code",
   "execution_count": null,
   "metadata": {
    "collapsed": true
   },
   "outputs": [],
   "source": []
  }
 ],
 "metadata": {
  "kernelspec": {
   "display_name": "Python 3",
   "language": "python",
   "name": "python3"
  },
  "language_info": {
   "codemirror_mode": {
    "name": "ipython",
    "version": 3
   },
   "file_extension": ".py",
   "mimetype": "text/x-python",
   "name": "python",
   "nbconvert_exporter": "python",
   "pygments_lexer": "ipython3",
   "version": "3.4.4"
  }
 },
 "nbformat": 4,
 "nbformat_minor": 0
}
